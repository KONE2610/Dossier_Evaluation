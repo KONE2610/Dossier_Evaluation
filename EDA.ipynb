{
 "cells": [
  {
   "cell_type": "markdown",
   "id": "0374ad0a",
   "metadata": {},
   "source": [
    "#### 1. Importer les librairies nécessaires pour une analyse exploratoire des données"
   ]
  },
  {
   "cell_type": "code",
   "execution_count": null,
   "id": "6763be72",
   "metadata": {},
   "outputs": [],
   "source": []
  },
  {
   "cell_type": "code",
   "execution_count": null,
   "id": "0dc44d16",
   "metadata": {},
   "outputs": [],
   "source": []
  },
  {
   "cell_type": "code",
   "execution_count": 2,
   "id": "628eebb2",
   "metadata": {},
   "outputs": [],
   "source": [
    "# Pour filtrer certains warnings\n",
    "import warnings\n",
    "warnings.filterwarnings(\"ignore\")"
   ]
  },
  {
   "cell_type": "markdown",
   "id": "e9156f4a",
   "metadata": {},
   "source": [
    "#### 2. Lire le dataset train.csv dans un dataframe pandas et le nommer data. Faire une copie dans une nouvelle variable df."
   ]
  },
  {
   "cell_type": "code",
   "execution_count": null,
   "id": "a10cc044",
   "metadata": {},
   "outputs": [],
   "source": []
  },
  {
   "cell_type": "markdown",
   "id": "7de1a635",
   "metadata": {},
   "source": [
    "#### 3. Afficher le nombre de lignes et de colonnes du dataframe"
   ]
  },
  {
   "cell_type": "code",
   "execution_count": null,
   "id": "e6d4dcbb",
   "metadata": {},
   "outputs": [],
   "source": []
  },
  {
   "cell_type": "markdown",
   "id": "dc1d179c",
   "metadata": {},
   "source": [
    "#### 4. Afficher les différentes variables présentes dans le dataset et leurs types (types de donnée)"
   ]
  },
  {
   "cell_type": "code",
   "execution_count": null,
   "id": "3ef71c65",
   "metadata": {},
   "outputs": [],
   "source": []
  },
  {
   "cell_type": "markdown",
   "id": "8eebabc9",
   "metadata": {},
   "source": [
    "#### 5. Verifier l'existence d'observations dupliquées dans le dataset"
   ]
  },
  {
   "cell_type": "code",
   "execution_count": null,
   "id": "632bab49",
   "metadata": {},
   "outputs": [],
   "source": []
  },
  {
   "cell_type": "markdown",
   "id": "ce817f83",
   "metadata": {},
   "source": [
    "#### 6. Afficher le nombre de valeurs uniques dans chaque variable"
   ]
  },
  {
   "cell_type": "code",
   "execution_count": null,
   "id": "d5b61dcd",
   "metadata": {},
   "outputs": [],
   "source": []
  },
  {
   "cell_type": "markdown",
   "id": "0a387f40",
   "metadata": {},
   "source": [
    "6.1. Que pouvez-vous dire des variables 'Region_Code' et 'Policy_Sale_Channel' ?"
   ]
  },
  {
   "cell_type": "code",
   "execution_count": null,
   "id": "1d858dfa",
   "metadata": {},
   "outputs": [],
   "source": []
  },
  {
   "cell_type": "markdown",
   "id": "2cae4890",
   "metadata": {},
   "source": [
    "#### 7. Vérifier l'existence de valeurs manquantes dans chaque variable."
   ]
  },
  {
   "cell_type": "markdown",
   "id": "58429479",
   "metadata": {},
   "source": [
    "#### 8. Utiliser la fonction describe() pour afficher les données statistiques importantes"
   ]
  },
  {
   "cell_type": "code",
   "execution_count": null,
   "id": "89e50c51",
   "metadata": {},
   "outputs": [],
   "source": []
  },
  {
   "cell_type": "markdown",
   "id": "b78593c1",
   "metadata": {},
   "source": [
    "#### 9. Analyse de la target Response"
   ]
  },
  {
   "cell_type": "markdown",
   "id": "ad91c3fc",
   "metadata": {},
   "source": [
    "1. Afficher les pourcentages de chaque classe dans la variable 'Response'\n",
    "2. Utiliser un outil statistique pour visualiser la proportion de chaque classe. Que pouvez-vous en déduire ?"
   ]
  },
  {
   "cell_type": "code",
   "execution_count": null,
   "id": "bd03ae90",
   "metadata": {},
   "outputs": [],
   "source": []
  },
  {
   "cell_type": "code",
   "execution_count": null,
   "id": "389ce702",
   "metadata": {},
   "outputs": [],
   "source": []
  },
  {
   "cell_type": "markdown",
   "id": "718b29e7",
   "metadata": {},
   "source": [
    "Créer les variables suivantes:\n",
    "- Quantitative_var: elle doit stocker toutes les variables numériques continues à part les variables 'id', 'Region_Code' et 'Policy_Channel'\n",
    "- Cat_var: elle doit stocker toutes les variables de type objet\n",
    "- Nominal_var: elle doit stocker les variables 'Region_Code' et 'Policy_Channel'\n",
    "- Discrete_var: Elle doit stocker les variables binaires à part la variable 'Response'"
   ]
  },
  {
   "cell_type": "code",
   "execution_count": null,
   "id": "8f4b2047",
   "metadata": {},
   "outputs": [],
   "source": []
  },
  {
   "cell_type": "code",
   "execution_count": null,
   "id": "451fa7f9",
   "metadata": {},
   "outputs": [],
   "source": []
  },
  {
   "cell_type": "code",
   "execution_count": null,
   "id": "9d100098",
   "metadata": {},
   "outputs": [],
   "source": []
  },
  {
   "cell_type": "markdown",
   "id": "3951fb2c",
   "metadata": {},
   "source": [
    "#### 10.1. Analyse univariée des variables catégorielles "
   ]
  },
  {
   "cell_type": "markdown",
   "id": "448817c4",
   "metadata": {},
   "source": [
    "1. Afficher les pourcentages de chaque classe en ce qui concerne les variables stockées dans 'Cat_var'\n",
    "2. Utiliser un outil statistique pour visualiser la proportion de chaque classe. Que pouvez-vous en déduire ?"
   ]
  },
  {
   "cell_type": "code",
   "execution_count": null,
   "id": "9d273488",
   "metadata": {},
   "outputs": [],
   "source": []
  },
  {
   "cell_type": "code",
   "execution_count": null,
   "id": "dca93381",
   "metadata": {},
   "outputs": [],
   "source": []
  },
  {
   "cell_type": "markdown",
   "id": "5b7f4a8e",
   "metadata": {},
   "source": [
    "#### 10.2. Analyse univariée des variables discrètes "
   ]
  },
  {
   "cell_type": "markdown",
   "id": "e4d09fae",
   "metadata": {},
   "source": [
    "1. Afficher les pourcentages de chaque classe en ce qui concerne les variables stockées dans 'Discrete_var'\n",
    "2. Utiliser un outil statistique pour visualiser la proportion de chaque classe. Que pouvez-vous en déduire ?"
   ]
  },
  {
   "cell_type": "code",
   "execution_count": null,
   "id": "75ac91f4",
   "metadata": {},
   "outputs": [],
   "source": []
  },
  {
   "cell_type": "code",
   "execution_count": null,
   "id": "b12bb86a",
   "metadata": {},
   "outputs": [],
   "source": []
  },
  {
   "cell_type": "markdown",
   "id": "7b2bcd46",
   "metadata": {},
   "source": [
    "#### 11. Analyse des variables 'Plicy_Sales_Channel' et 'Region_Code'"
   ]
  },
  {
   "cell_type": "markdown",
   "id": "09fd7a27",
   "metadata": {},
   "source": [
    "Utiliser l'outil de visualisation approprié pour visualiser ces deux variables et faites_en déduction"
   ]
  },
  {
   "cell_type": "code",
   "execution_count": null,
   "id": "89e9017c",
   "metadata": {},
   "outputs": [],
   "source": []
  },
  {
   "cell_type": "code",
   "execution_count": null,
   "id": "589867e2",
   "metadata": {},
   "outputs": [],
   "source": []
  },
  {
   "cell_type": "code",
   "execution_count": null,
   "id": "4359f059",
   "metadata": {},
   "outputs": [],
   "source": []
  },
  {
   "cell_type": "markdown",
   "id": "2e819ae8",
   "metadata": {},
   "source": [
    "#### 12. Analyse Univariée des variable numériques"
   ]
  },
  {
   "cell_type": "markdown",
   "id": "f54d8c3c",
   "metadata": {},
   "source": [
    "Utiliser l'outil de visualisation approprié pour visualiser les variables stockées dans 'Numerical_var' et dites ce que vous pouvez en déduire"
   ]
  },
  {
   "cell_type": "code",
   "execution_count": null,
   "id": "8e65a8da",
   "metadata": {},
   "outputs": [],
   "source": []
  },
  {
   "cell_type": "code",
   "execution_count": null,
   "id": "712fd7c1",
   "metadata": {},
   "outputs": [],
   "source": []
  },
  {
   "cell_type": "markdown",
   "id": "5f440329",
   "metadata": {},
   "source": [
    "#### 13.1. Analyse bivariée: Variables Catégorielles vs target"
   ]
  },
  {
   "cell_type": "markdown",
   "id": "945cf04c",
   "metadata": {},
   "source": [
    "Utiliser l'outil de visualisation pour analyser la relation entre la variable cible 'Response' et les variables stockées dans Cat_var. Que pouvez-vous en déduire ?"
   ]
  },
  {
   "cell_type": "code",
   "execution_count": null,
   "id": "3e03f096",
   "metadata": {},
   "outputs": [],
   "source": []
  },
  {
   "cell_type": "code",
   "execution_count": null,
   "id": "961aa29f",
   "metadata": {},
   "outputs": [],
   "source": []
  },
  {
   "cell_type": "markdown",
   "id": "4116abfc",
   "metadata": {},
   "source": [
    "#### 13.2. Analyse bivariée: Variablest discrètes vs target"
   ]
  },
  {
   "cell_type": "markdown",
   "id": "df226182",
   "metadata": {},
   "source": [
    "Utiliser l'outil de visualisation pour analyser la relation entre la variable cible 'Response' et les variables stockées dans Discrete_var. Que pouvez-vous en déduire ?"
   ]
  },
  {
   "cell_type": "code",
   "execution_count": null,
   "id": "530cb1d5",
   "metadata": {},
   "outputs": [],
   "source": []
  },
  {
   "cell_type": "code",
   "execution_count": null,
   "id": "756965b8",
   "metadata": {},
   "outputs": [],
   "source": []
  },
  {
   "cell_type": "code",
   "execution_count": null,
   "id": "1ce5c183",
   "metadata": {},
   "outputs": [],
   "source": []
  },
  {
   "cell_type": "markdown",
   "id": "398c1556",
   "metadata": {},
   "source": [
    "#### 14. Analyse bivariée: Variables numériques continues et target"
   ]
  },
  {
   "cell_type": "markdown",
   "id": "6c7d6817",
   "metadata": {},
   "source": [
    "1. Créer une variable 'Yes_Resp_df' qui va stocker le dataframe contenant les clients dont la variable 'Response' équivaut à 1\n",
    "2. Créer une variable 'No_Resp_df' qui va stocker le dataframe contenant les clients dont la variable 'Response' équivaut à 0\n",
    "3. Faire une analyse croisée de ces deux dataframes par rapport aux variables numériques stockées dans Numerical_var\n",
    "4. Que pouvez-vous en déduire ?"
   ]
  },
  {
   "cell_type": "code",
   "execution_count": null,
   "id": "26b7c766",
   "metadata": {},
   "outputs": [],
   "source": []
  },
  {
   "cell_type": "code",
   "execution_count": null,
   "id": "1c1de41e",
   "metadata": {},
   "outputs": [],
   "source": []
  },
  {
   "cell_type": "code",
   "execution_count": null,
   "id": "bddd1966",
   "metadata": {},
   "outputs": [],
   "source": []
  },
  {
   "cell_type": "code",
   "execution_count": null,
   "id": "53d08c0d",
   "metadata": {},
   "outputs": [],
   "source": []
  },
  {
   "cell_type": "markdown",
   "id": "cdc6267e",
   "metadata": {},
   "source": [
    "#### 15. Vérification de la corrélation entre les variables numériques continues"
   ]
  },
  {
   "cell_type": "markdown",
   "id": "1aa6e99a",
   "metadata": {},
   "source": [
    "Utiliser les fonctions heatmap() et corr() de seaborn pour afficher la corrélation entre les variables numériques continues et dites ce que vous en pensez"
   ]
  },
  {
   "cell_type": "code",
   "execution_count": null,
   "id": "b72a1e5c",
   "metadata": {},
   "outputs": [],
   "source": []
  },
  {
   "cell_type": "code",
   "execution_count": null,
   "id": "91881381",
   "metadata": {},
   "outputs": [],
   "source": []
  },
  {
   "cell_type": "markdown",
   "id": "6406754e",
   "metadata": {},
   "source": [
    "#### 16. Analyse un peu poussée en vérifiant les relations entre certaiines variables indépendantes"
   ]
  },
  {
   "cell_type": "markdown",
   "id": "c3795808",
   "metadata": {},
   "source": [
    "1. Vérifier la relation entre la variable catégorielle 'Vehicle_Age' et la variable discrète 'Previously_Insured' en faisant la discrimination sur la variable 'Previously_Insured' Que conclure ?"
   ]
  },
  {
   "cell_type": "code",
   "execution_count": null,
   "id": "533923c3",
   "metadata": {},
   "outputs": [],
   "source": []
  },
  {
   "cell_type": "code",
   "execution_count": null,
   "id": "b7606ebb",
   "metadata": {},
   "outputs": [],
   "source": []
  },
  {
   "cell_type": "code",
   "execution_count": null,
   "id": "d61088a0",
   "metadata": {},
   "outputs": [],
   "source": []
  },
  {
   "cell_type": "markdown",
   "id": "a97028a7",
   "metadata": {},
   "source": [
    "2. Vérifier la relation entre la variable catégorielle 'Vehicle_Damage' et la variable discrète 'Vehicle_Age' en faisant la discrimination sur la variable 'Vehicle_Age' Que conclure ?"
   ]
  },
  {
   "cell_type": "code",
   "execution_count": null,
   "id": "4c182aeb",
   "metadata": {},
   "outputs": [],
   "source": []
  },
  {
   "cell_type": "code",
   "execution_count": null,
   "id": "95d5dac8",
   "metadata": {},
   "outputs": [],
   "source": []
  },
  {
   "cell_type": "code",
   "execution_count": null,
   "id": "f11bc36d",
   "metadata": {},
   "outputs": [],
   "source": []
  },
  {
   "cell_type": "markdown",
   "id": "e1709d42",
   "metadata": {},
   "source": [
    "### 17. Questions de cours"
   ]
  },
  {
   "cell_type": "markdown",
   "id": "9ab0bc6d",
   "metadata": {},
   "source": [
    "1. Dites brièvement ce que vous savez de la plateforme Kaggle."
   ]
  },
  {
   "cell_type": "code",
   "execution_count": null,
   "id": "2ab3d8a9",
   "metadata": {},
   "outputs": [],
   "source": []
  },
  {
   "cell_type": "markdown",
   "id": "2903e87b",
   "metadata": {},
   "source": [
    "2. Citez trois techniques d'imputation des valeurs pour une variable numérique continue."
   ]
  },
  {
   "cell_type": "code",
   "execution_count": null,
   "id": "7223fe50",
   "metadata": {},
   "outputs": [],
   "source": []
  },
  {
   "cell_type": "markdown",
   "id": "ab0f3c8e",
   "metadata": {},
   "source": [
    "3. Citez deux techniques d'imputations des valeurs manquantes pour une variable catégorielle."
   ]
  },
  {
   "cell_type": "code",
   "execution_count": null,
   "id": "17a31280",
   "metadata": {},
   "outputs": [],
   "source": []
  },
  {
   "cell_type": "markdown",
   "id": "80fd32e9",
   "metadata": {},
   "source": [
    "4. Citez deux techniques d'encodage des variables catégorielles."
   ]
  },
  {
   "cell_type": "code",
   "execution_count": null,
   "id": "7c348500",
   "metadata": {},
   "outputs": [],
   "source": []
  }
 ],
 "metadata": {
  "kernelspec": {
   "display_name": "Python 3",
   "language": "python",
   "name": "python3"
  },
  "language_info": {
   "codemirror_mode": {
    "name": "ipython",
    "version": 3
   },
   "file_extension": ".py",
   "mimetype": "text/x-python",
   "name": "python",
   "nbconvert_exporter": "python",
   "pygments_lexer": "ipython3",
   "version": "3.8.8"
  }
 },
 "nbformat": 4,
 "nbformat_minor": 5
}
